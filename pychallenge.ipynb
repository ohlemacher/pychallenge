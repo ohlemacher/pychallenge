{
 "cells": [
  {
   "cell_type": "markdown",
   "metadata": {},
   "source": [
    "# Solutions for pythonchallenge.com puzzles\n",
    "\n",
    "Most are implemented in Python, but some are also solved in C++."
   ]
  },
  {
   "cell_type": "markdown",
   "metadata": {},
   "source": [
    "## [0. warming up](http://www.pythonchallenge.com/pc/def/0.html)\n",
    "#### Problem:\n",
    "This is a picture of 2**38.\n",
    "#### Solution:\n",
    "This is a simple intro. Just use pow() or 2**38."
   ]
  },
  {
   "cell_type": "code",
   "execution_count": 59,
   "metadata": {
    "collapsed": false
   },
   "outputs": [
    {
     "data": {
      "text/plain": [
       "274877906944"
      ]
     },
     "execution_count": 59,
     "metadata": {},
     "output_type": "execute_result"
    }
   ],
   "source": [
    "2**38"
   ]
  },
  {
   "cell_type": "markdown",
   "metadata": {},
   "source": [
    "#### Answer:\n",
    "274877906944"
   ]
  },
  {
   "cell_type": "markdown",
   "metadata": {},
   "source": [
    "## [1. map](http://www.pythonchallenge.com/pc/def/map.html)\n",
    "\n",
    "#### Problem:\n",
    "Decode the messages.\n",
    "\n",
    "#### Hints:\n",
    "- The page title is 'What about making trans?'\n",
    "- The page's image display a mapping:\n",
    "    + K --> M\n",
    "    + O --> Q\n",
    "    + E --> G\n",
    "    \n",
    "#### Solution:\n",
    "This is a basic Ceasar's cypher.\n",
    "\n",
    "The hints suggests using string.maketrans().  This works, but it requires a translation table. It also seems to have issues in Python 3. string.maketrans was deprecated and then removed.  Strings are not bytes. They are Unicode.\n",
    "\n",
    "I had considered using a dictionary LUT, but felt it makes reusability much harder. If the mapping K--> M changed to something else like K --> P, then a new table is required. One could write a function to generate the LUT or translation table for the required shift.   \n",
    "\n",
    "Instead, string.ascii_lowercase and string.find() were used to get a character's index in the ascii string.  Then it becomes a matter of handling the wrapping. Positive/negative shifts and upper/lower case strings are handled.\n",
    "\n",
    "#### Answer: ocr"
   ]
  },
  {
   "cell_type": "code",
   "execution_count": 60,
   "metadata": {
    "collapsed": false
   },
   "outputs": [
    {
     "name": "stdout",
     "output_type": "stream",
     "text": [
      "/home/ohlemacher/dev/pychallenge/1_think_twice\n",
      "\n",
      "Encrypted message:\n",
      "g fmnc wms bgblr rpylqjyrc gr zw fylb. rfyrq ufyr amknsrcpq ypc dmp. bmgle gr gl zw fylb gq glcddgagclrylb rfyr'q ufw rfgq rcvr gq qm jmle. sqgle qrpgle.kyicrpylq() gq pcamkkclbcb. lmu ynnjw ml rfc spj.\n",
      "\n",
      "Decrypted message:\n",
      "i hope you didnt translate it by hand. thats what computers are for. doing it in by hand is inefficientand that's why this text is so long. using string.maketrans() is recommended. now apply on the url.\n"
     ]
    }
   ],
   "source": [
    "%cd /home/ohlemacher/dev/pychallenge/1_think_twice\n",
    "import think\n",
    "think = reload(think)\n",
    "msg_orig = \\\n",
    "        \"g fmnc wms bgblr rpylqjyrc gr zw fylb. \" + \\\n",
    "        \"rfyrq ufyr amknsrcpq ypc dmp. bmgle gr gl zw fylb gq glcddgagclr\" + \\\n",
    "        \"ylb rfyr'q ufw rfgq rcvr gq qm jmle. sqgle qrpgle.kyicrpylq() gq pcamkkclbcb. lmu ynnjw ml rfc spj.\"\n",
    "think.explore(msg_orig, 2)"
   ]
  },
  {
   "cell_type": "code",
   "execution_count": 55,
   "metadata": {
    "collapsed": false
   },
   "outputs": [
    {
     "name": "stdout",
     "output_type": "stream",
     "text": [
      "/home/ohlemacher/dev/pychallenge/1_think_twice\n",
      "\n",
      "Encrypted message:\n",
      "map\n",
      "\n",
      "Decrypted message:\n",
      "ocr\n"
     ]
    }
   ],
   "source": [
    "%cd /home/ohlemacher/dev/pychallenge/1_think_twice\n",
    "import think\n",
    "think = reload(think)\n",
    "msg_orig = \"map\"\n",
    "think.explore(msg_orig, 2)"
   ]
  },
  {
   "cell_type": "code",
   "execution_count": 58,
   "metadata": {
    "collapsed": false
   },
   "outputs": [
    {
     "name": "stdout",
     "output_type": "stream",
     "text": [
      "This would be useful.\n",
      "Pdeo skqhz xa qoabqh.\n"
     ]
    }
   ],
   "source": [
    "print think.shift_msg('Pdeo skqhz xa qoabqh.', 4)\n",
    "print think.shift_msg('This would be useful.', -4)"
   ]
  },
  {
   "cell_type": "markdown",
   "metadata": {},
   "source": [
    "## [2. ocr](http://www.pythonchallenge.com/pc/def/ocr.html)\n",
    "#### Problem:\n",
    "A picture of a book open to some unreadable text.\n",
    "\n",
    "#### Hints:\n",
    "- The image has a caption 'recognize the characters. maybe they are in the book, but MAYBE they are in the page' source.\n",
    "- The source contains 'find rare characters in the mess below:'\n",
    "- The mess is a large block of text '%%$@_$^__#)^)&!_+]!*@&^}....'\n",
    "\n",
    "#### Solution:\n",
    "Count the characters in the text block. The answer is found in the characters that are used only once in the order they appear.\n",
    "\n",
    "A dictionary {[char: count]} was used to collect the counts, then dictionary was sorted: `sorted(dic.items(), key=operator.itemgetter(1))`. Fortunately, the built-in sorted() function is guaranteed to be stable. A sort is stable if it guarantees not to change the relative order of elements that compare equal.\n",
    "\n",
    "#### Answer: equality"
   ]
  }
 ],
 "metadata": {
  "kernelspec": {
   "display_name": "Python 2",
   "language": "python",
   "name": "python2"
  },
  "language_info": {
   "codemirror_mode": {
    "name": "ipython",
    "version": 2
   },
   "file_extension": ".py",
   "mimetype": "text/x-python",
   "name": "python",
   "nbconvert_exporter": "python",
   "pygments_lexer": "ipython2",
   "version": "2.7.6"
  }
 },
 "nbformat": 4,
 "nbformat_minor": 0
}
