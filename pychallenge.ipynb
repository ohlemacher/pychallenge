{
 "cells": [
  {
   "cell_type": "markdown",
   "metadata": {},
   "source": [
    "# Solutions for pythonchallenge.com puzzles"
   ]
  },
  {
   "cell_type": "markdown",
   "metadata": {},
   "source": [
    "## [0. warming up](http://www.pythonchallenge.com/pc/def/0.html)\n",
    "#### Problem:\n",
    "This is a picture of 2**38.\n",
    "#### Solution:\n",
    "This is a simple intro. Just use pow() or 2**38."
   ]
  },
  {
   "cell_type": "code",
   "execution_count": 59,
   "metadata": {
    "collapsed": false
   },
   "outputs": [
    {
     "data": {
      "text/plain": [
       "274877906944"
      ]
     },
     "execution_count": 59,
     "metadata": {},
     "output_type": "execute_result"
    }
   ],
   "source": [
    "2**38"
   ]
  },
  {
   "cell_type": "markdown",
   "metadata": {},
   "source": [
    "#### Answer:\n",
    "274877906944"
   ]
  },
  {
   "cell_type": "markdown",
   "metadata": {},
   "source": [
    "## [1. map](http://www.pythonchallenge.com/pc/def/map.html)\n",
    "\n",
    "#### Problem:\n",
    "Decode the messages.\n",
    "\n",
    "#### Hints:\n",
    "- The page title is 'What about making trans?'\n",
    "- The page's image display a mapping:\n",
    "    + K --> M\n",
    "    + O --> Q\n",
    "    + E --> G\n",
    "    \n",
    "#### Solution:\n",
    "This is a basic Ceasar's cypher.\n",
    "\n",
    "The hints suggests using string.maketrans().  This works, but it requires a translation table. It also seems to have issues in Python 3. string.maketrans was deprecated and then removed.  Strings are not bytes. They are Unicode.\n",
    "\n",
    "I had considered using a dictionary LUT, but felt it makes reusability much harder. If the mapping K--> M changed to something else like K --> P, then a new table is required. One could write a function to generate the LUT or translation table for the required shift.   \n",
    "\n",
    "Instead, string.ascii_lowercase and string.find() were used to get a character's index in the ascii string.  Then it becomes a matter of handling the wrapping. Positive/negative shifts and upper/lower case strings are handled."
   ]
  },
  {
   "cell_type": "code",
   "execution_count": 67,
   "metadata": {
    "collapsed": false
   },
   "outputs": [
    {
     "name": "stdout",
     "output_type": "stream",
     "text": [
      "/home/ohlemacher/dev/pychallenge/1_think_twice\n",
      "\n",
      "Encrypted message:\n",
      "g fmnc wms bgblr rpylqjyrc gr zw fylb. rfyrq ufyr amknsrcpq ypc dmp. bmgle gr gl zw fylb gq glcddgagclrylb rfyr'q ufw rfgq rcvr gq qm jmle. sqgle qrpgle.kyicrpylq() gq pcamkkclbcb. lmu ynnjw ml rfc spj.\n",
      "\n",
      "Decrypted message:\n",
      "i hope you didnt translate it by hand. thats what computers are for. doing it in by hand is inefficientand that's why this text is so long. using string.maketrans() is recommended. now apply on the url.\n"
     ]
    }
   ],
   "source": [
    "%cd /home/ohlemacher/dev/pychallenge/1_think_twice\n",
    "import think\n",
    "think = reload(think)\n",
    "msg_orig = \\\n",
    "        \"g fmnc wms bgblr rpylqjyrc gr zw fylb. \" + \\\n",
    "        \"rfyrq ufyr amknsrcpq ypc dmp. bmgle gr gl zw fylb gq glcddgagclr\" + \\\n",
    "        \"ylb rfyr'q ufw rfgq rcvr gq qm jmle. sqgle qrpgle.kyicrpylq() gq pcamkkclbcb. lmu ynnjw ml rfc spj.\"\n",
    "think.explore(msg_orig, 2)"
   ]
  },
  {
   "cell_type": "code",
   "execution_count": 69,
   "metadata": {
    "collapsed": false
   },
   "outputs": [
    {
     "name": "stdout",
     "output_type": "stream",
     "text": [
      "Let's test positive and negative shifts.\n",
      "Hap'o paop lkoepera wjz jacwpera odebpo.\n"
     ]
    }
   ],
   "source": [
    "print think.shift_msg(\"Hap'o paop lkoepera wjz jacwpera odebpo.\",  4)\n",
    "print think.shift_msg(\"Let's test positive and negative shifts.\", -4)"
   ]
  },
  {
   "cell_type": "markdown",
   "metadata": {},
   "source": [
    "#### Answer:"
   ]
  },
  {
   "cell_type": "code",
   "execution_count": 68,
   "metadata": {
    "collapsed": false
   },
   "outputs": [
    {
     "name": "stdout",
     "output_type": "stream",
     "text": [
      "ocr\n"
     ]
    }
   ],
   "source": [
    "print think.shift_msg(\"map\", 2)"
   ]
  },
  {
   "cell_type": "markdown",
   "metadata": {},
   "source": [
    "## [2. ocr](http://www.pythonchallenge.com/pc/def/ocr.html)\n",
    "#### Problem:\n",
    "A picture of a book open to some unreadable text.\n",
    "\n",
    "#### Hints:\n",
    "- The image has a caption 'recognize the characters. maybe they are in the book, but MAYBE they are in the page' source.\n",
    "- The source contains 'find rare characters in the mess below:'\n",
    "- The mess is a large block of text '%%$@_$^__#)^)&!_+]!*@&^}....'\n",
    "\n",
    "#### Solution:\n",
    "Count the characters in the text block. The answer is found in the characters that are used only once in the order they appear.\n",
    "\n",
    "A dictionary {[char: count]} was used to collect the counts, then the dictionary was sorted: `sorted(dic.items(), key=operator.itemgetter(1))`. Fortunately, the built-in sorted() function is guaranteed to be stable. A sort is stable if it guarantees not to change the relative order of elements that compare equal.\n",
    "\n",
    "#### Answer: equality"
   ]
  },
  {
   "cell_type": "markdown",
   "metadata": {},
   "source": [
    "## [3. equality](http://www.pythonchallenge.com/pc/def/equality.html)\n",
    "\n",
    "#### Problem:\n",
    "An image of candles of various heights.\n",
    "\n",
    "#### Hints:\n",
    "- The page title is 'RE'.\n",
    "- The image has a caption 'One small letter, surrounded by EXACTLY three big bodyguards on each of its sides.'\n",
    "- The page source has a large block of text: 'kAewtloYgcFQaJNhHVG...'.\n",
    "\n",
    "#### Solution:\n",
    "Use a RE to find the matches: `[^A-Z]+[A-Z]{3}([a-z])[A-Z]{3}[^A-Z]+`\n",
    "\n",
    "#### Answer: linkedlist"
   ]
  },
  {
   "cell_type": "markdown",
   "metadata": {},
   "source": [
    "## [4. linkedlist](http://www.pythonchallenge.com/pc/def/linkedlist.html)\n",
    "\n",
    "#### Problem: \n",
    "Start at a url and follow the links until the end. There are a couple of special cases to handle with re.\n",
    "\n",
    "#### Hints:\n",
    "- follow the chain\n",
    "- urllib may help. DON'T TRY ALL NOTHINGS, since it will never end.\n",
    "- 400 times is more than enough.\n",
    "- The starting link is 12345\"\n",
    "\n",
    "#### Solution:\n",
    "Use requests to traverse the links. Use re to find the next link.\n",
    "\n",
    "#### Answer: peak"
   ]
  },
  {
   "cell_type": "markdown",
   "metadata": {},
   "source": [
    "## [5. peak](http://www.pythonchallenge.com/pc/def/peak.html)\n",
    "\n",
    "#### Problem:\n",
    "The page source implies there is a source file to get. Figure out what to do with it.\n",
    "\n",
    "#### Hints:\n",
    "- peakhell src=\"banner.p\"\n",
    "- peakhell sounds a bit like pickle, but this is not very obvious.\n",
    "\n",
    "#### Solution:\n",
    "Use requests to get the banner.p file. Figure out it is a pickle file. This is the hard part. Demarshal the file using the pickle module. Print the text.  It contains lines of tuples (# or a space, multiplier), readable once printed by printing the character multiplier times.\n",
    "\n",
    "#### Answer: channel"
   ]
  },
  {
   "cell_type": "markdown",
   "metadata": {},
   "source": [
    "## [6. channel](http://www.pythonchallenge.com/pc/def/channel.html)\n",
    "\n",
    "#### Problem:\n",
    "Look at the picture and source and realize that a zip file must be downloaded and analyzed.\n",
    "\n",
    "#### Hints:\n",
    "- The picture is of a zipper.\n",
    "- start from 90052.\n",
    "- answer is inside the zip.\n",
    "\n",
    "#### Solution:\n",
    "Use requests to download channel.zip. Extract it and use recursion to follow each file in the zip file to the next. Collect each file's comments while following. Stop recursive calls once an interesting file is found. Print the comments. The comments are a banner: HOCKEY.\n",
    "\n",
    "Another hint: 'it's in the air. look at the letters.'\n",
    "\n",
    "The banner is formed from the banner characters.\n",
    "\n",
    "#### Answer: oxygen"
   ]
  },
  {
   "cell_type": "markdown",
   "metadata": {},
   "source": [
    "## [7. oxygen](http://www.pythonchallenge.com/pc/def/oxygen.html)\n",
    "\n",
    "#### Problem:\n",
    "A picture of a stream with a line of gray blocks varying in intensity.\n",
    "\n",
    "#### Hints:\n",
    "- The page title is 'smarty'.\n",
    "\n",
    "#### Solution:\n",
    "Get the image using requests. Use the mahotas image processing library to create a numpy ndarray with the pixel data. Maybe the gray blocks have some information? Find them. Being a level of gray, the pixels each have equal values for red, green and blue. The gray values map to ASCII characters. Use chr() to convert to a character.\n",
    "- Note: The blocks each have many pixels, horizontally and vertically (it is a block). This leads to repeating strings and characters within the strings. Attempting to dedup can cause issues. Take care with gray values such as 110 which could be incorrectly deduped to 10.\n",
    "\n",
    "#### Answer: integrity"
   ]
  },
  {
   "cell_type": "markdown",
   "metadata": {},
   "source": [
    "## [8. integrity](http://www.pythonchallenge.com/pc/def/integrity.html)\n",
    "\n",
    "#### Problem:\n",
    "We have a picture of a bee with a hyperlink. When clicked, we a prompted for credentials, but we do not know how to log in.\n",
    "\n",
    "#### Hints:\n",
    "- The page source contains:\n",
    "    - `un: 'BZh91AY&SYA\\xaf\\x82\\r\\x00\\x00\\x01\\x01\\x80\\x02\\xc0\\x02\\x00 \\x00!\\x9ah3M\\x07<]\\xc9\\x14\\xe1BA\\x06\\xbe\\x084'`\n",
    "    - `pw: 'BZh91AY&SY\\x94$|\\x0e\\x00\\x00\\x00\\x81\\x00\\x03$ \\x00!\\x9ah3M\\x13<]\\xc9\\x14\\xe1BBP\\x91\\xf08'`\n",
    "\n",
    "#### Solution:\n",
    "The un and pw strings are our credentials. They each start with 'BZ'. They are compressed with bzip compression. Use the bz2 module to decompress each.\n",
    "\n",
    "#### Answer:\n",
    "- user  : huge\n",
    "- passwd: file\n",
    "- Using the authentication leads to good.html"
   ]
  },
  {
   "cell_type": "markdown",
   "metadata": {},
   "source": [
    "## [9. good](http://www.pythonchallenge.com/pc/return/good.html)\n",
    "\n",
    "#### Problem:\n",
    "We have a picture of a mountain view over water. There are some seemingly randomly placed black dots.\n",
    "\n",
    "#### Hints:\n",
    "- The page title is `Connect the dots`.\n",
    "- The page source contains:\n",
    "    - `first+second=?`\n",
    "    - Two strings of numbers named first and second. They have different lengths.\n",
    "\n",
    "#### Solution:\n",
    "first and second are of different lengths so they cannot be coordinates used together. They instead each represent a line. The numbers are coordinates concatenated, e.g. [x0, y0, x1, y1...]. Use zip() to create two lists of coordinate tuples for both first and second. Use the PIL library to draw each line. The images's black dots are a red herring.\n",
    "\n",
    "#### Answer:\n",
    "The lines form the outline of a cow but it has horns so it is really a 'bull'."
   ]
  },
  {
   "cell_type": "markdown",
   "metadata": {},
   "source": [
    "## [10. bull](http://www.pythonchallenge.com/pc/return/bull.html)\n",
    "\n",
    "#### Problem:\n",
    "After examining a sequence of integers, determine the length of the 30th iteration.\n",
    "\n",
    "#### Hints:\n",
    "- The page source contains `a = [1, 11, 21, 1211, 111221,`\n",
    "\n",
    "#### Solution:\n",
    "I had no idea what this sequence was and had to google it, though I had first guessed wrongly that the numbers were in base 3. Turns out this is the look-say sequence which was developed by John Conway.\n",
    "\n",
    "Use regex to find the numbers that match \"^(%s+)\". Do this in a for loop sliding through the number. As you slide, skip the repeats. Create the next iteration by writing the length and the number as you slide.\n",
    "        \n",
    "#### Background of the look-say algorythm:\n",
    "- [look-say backstory](https://www.youtube.com/watch?v=ea7lJkEhytA)\n",
    "- \"The stupidest problem you could conceivably imagine, that led to the most complicated answer you could conceivably imagine.\" -- John Conway\n",
    "- The reason it is \"the most complicated answer\" is that Dr. Conway found a 70th order equation for this algorythm. Another solution route?\n",
    "- Conway's constant: 1.303577269\n",
    "- a[n+1] ~= a[n]**conways_constant\n",
    "\n",
    "#### Answer: 5808"
   ]
  },
  {
   "cell_type": "markdown",
   "metadata": {},
   "source": [
    "## [11. 5808](http://www.pythonchallenge.com/pc/return/5808.html)\n",
    "\n",
    "#### Problem:\n",
    "Given this image, find the solution.\n",
    "![alt text](https://raw.githubusercontent.com/ohlemacher/pychallenge/master/images/5808.png \"5808\")\n",
    "\n",
    "#### Hints:\n",
    "- Page title: odd_even\n",
    "\n",
    "#### Solution:\n",
    "odd_even is pretty big hint. Remove the odd lines and rows. Using a numpy array makes it trivial. Once you have the ndarray via mahotas, the solution is one line: `img_even = img[::2, ::2]`\n",
    "![alt text](https://raw.githubusercontent.com/ohlemacher/pychallenge/master/images/5808_evil.png \"5808\")\n",
    "\n",
    "#### Answer: evil"
   ]
  },
  {
   "cell_type": "markdown",
   "metadata": {},
   "source": [
    "## [12. evil](http://www.pythonchallenge.com/pc/return/evil.html)\n",
    "\n",
    "#### Problem: Given the image named 'evil1.jpg', find the solution. The image is of someone dealing cards.\n",
    "\n",
    "#### Hints:\n",
    "- There is a one in the image name.\n",
    "- Dealing cards is a small hint.\n",
    "- On the back of each card are two sickle shapes.\n",
    "\n",
    "#### Solution:\n",
    "Since there is an evil1.jpg, try evil2.jpg. It exists and says 'not jpg - .gfx'\n",
    "\n",
    "evil2.gfx is not a standard graphics format. The `file` command reports it as data. `xxd evil2.gfx | head` shows there is a jpeg magic number.\n",
    "\n",
    "Remembering the solution to 5808, guess that there are images muxed together. Create individual data lists each skipping starting with a different offset.  After some experimentation, the offset is found to be five. Therefore we need five lists of bytes.\n",
    "\n",
    "Look at the head of each list to determine its image format. Set the extension and create the files. Display each file. Catch errors. It turns out that image 3.png contains a compression error and results in a TypeError exception. Handle exceptions.  gimp can display the top half of 3.png. pylab cannot.\n",
    "\n",
    "#### Answer: dis + pro + port + ional + !ity = disproportional"
   ]
  },
  {
   "cell_type": "markdown",
   "metadata": {},
   "source": [
    "## [13. disproportional](http://www.pythonchallenge.com/pc/return/disproportional.html)\n",
    "\n",
    "#### Problem:\n",
    "This time we have an image of a phone dial pad.\n",
    "\n",
    "#### Hints:\n",
    "- The page title is 'call him'\n",
    "- The image has a caption 'phone that evil'\n",
    "- The page source has something interesting for this caption 'phone that <remote /> evil'\n",
    "- The image's 5 button links to phonebook.php. This script returns an xml doc but there is an error.\n",
    "    - `faultCode=105` \n",
    "    - `faultString=XML error: Invalid document end at line 1, column 1`\n",
    "    \n",
    "#### Solution:\n",
    "In progress..."
   ]
  }
 ],
 "metadata": {
  "kernelspec": {
   "display_name": "Python 2",
   "language": "python",
   "name": "python2"
  },
  "language_info": {
   "codemirror_mode": {
    "name": "ipython",
    "version": 2
   },
   "file_extension": ".py",
   "mimetype": "text/x-python",
   "name": "python",
   "nbconvert_exporter": "python",
   "pygments_lexer": "ipython2",
   "version": "2.7.6"
  }
 },
 "nbformat": 4,
 "nbformat_minor": 0
}
